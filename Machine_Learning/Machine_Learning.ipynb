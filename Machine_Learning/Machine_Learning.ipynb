{
 "cells": [
  {
   "cell_type": "code",
   "execution_count": 1,
   "metadata": {},
   "outputs": [],
   "source": [
    "import pandas as pd\n",
    "import numpy as np\n",
    "import matplotlib.pyplot as plt\n",
    "import seaborn as sns\n",
    "\n",
    "from sklearn.model_selection import train_test_split, GridSearchCV\n",
    "from sklearn.preprocessing import StandardScaler\n",
    "from sklearn.metrics import confusion_matrix, classification_report, accuracy_score, cohen_kappa_score"
   ]
  },
  {
   "cell_type": "code",
   "execution_count": 2,
   "metadata": {},
   "outputs": [],
   "source": [
    "# Import train and test sets\n",
    "train = pd.read_csv('../Data/training_set.csv', index_col = 'PetID')\n",
    "test = pd.read_csv('../Data/test_set.csv', index_col = 'PetID')"
   ]
  },
  {
   "cell_type": "code",
   "execution_count": 3,
   "metadata": {},
   "outputs": [
    {
     "data": {
      "text/html": [
       "<div>\n",
       "<style scoped>\n",
       "    .dataframe tbody tr th:only-of-type {\n",
       "        vertical-align: middle;\n",
       "    }\n",
       "\n",
       "    .dataframe tbody tr th {\n",
       "        vertical-align: top;\n",
       "    }\n",
       "\n",
       "    .dataframe thead th {\n",
       "        text-align: right;\n",
       "    }\n",
       "</style>\n",
       "<table border=\"1\" class=\"dataframe\">\n",
       "  <thead>\n",
       "    <tr style=\"text-align: right;\">\n",
       "      <th></th>\n",
       "      <th>Unnamed: 0</th>\n",
       "      <th>Name</th>\n",
       "      <th>Age</th>\n",
       "      <th>Breed1</th>\n",
       "      <th>Breed2</th>\n",
       "      <th>Color1</th>\n",
       "      <th>Color2</th>\n",
       "      <th>Color3</th>\n",
       "      <th>MaturitySize</th>\n",
       "      <th>FurLength</th>\n",
       "      <th>...</th>\n",
       "      <th>State_41330</th>\n",
       "      <th>State_41332</th>\n",
       "      <th>State_41335</th>\n",
       "      <th>State_41336</th>\n",
       "      <th>State_41342</th>\n",
       "      <th>State_41345</th>\n",
       "      <th>State_41361</th>\n",
       "      <th>State_41367</th>\n",
       "      <th>State_41401</th>\n",
       "      <th>State_41415</th>\n",
       "    </tr>\n",
       "    <tr>\n",
       "      <th>PetID</th>\n",
       "      <th></th>\n",
       "      <th></th>\n",
       "      <th></th>\n",
       "      <th></th>\n",
       "      <th></th>\n",
       "      <th></th>\n",
       "      <th></th>\n",
       "      <th></th>\n",
       "      <th></th>\n",
       "      <th></th>\n",
       "      <th></th>\n",
       "      <th></th>\n",
       "      <th></th>\n",
       "      <th></th>\n",
       "      <th></th>\n",
       "      <th></th>\n",
       "      <th></th>\n",
       "      <th></th>\n",
       "      <th></th>\n",
       "      <th></th>\n",
       "      <th></th>\n",
       "    </tr>\n",
       "  </thead>\n",
       "  <tbody>\n",
       "    <tr>\n",
       "      <th>86e1089a3</th>\n",
       "      <td>0</td>\n",
       "      <td>nibble</td>\n",
       "      <td>3</td>\n",
       "      <td>299</td>\n",
       "      <td>0</td>\n",
       "      <td>1</td>\n",
       "      <td>7</td>\n",
       "      <td>0</td>\n",
       "      <td>1</td>\n",
       "      <td>1</td>\n",
       "      <td>...</td>\n",
       "      <td>0</td>\n",
       "      <td>0</td>\n",
       "      <td>0</td>\n",
       "      <td>0</td>\n",
       "      <td>0</td>\n",
       "      <td>0</td>\n",
       "      <td>0</td>\n",
       "      <td>0</td>\n",
       "      <td>0</td>\n",
       "      <td>0</td>\n",
       "    </tr>\n",
       "    <tr>\n",
       "      <th>6296e909a</th>\n",
       "      <td>1</td>\n",
       "      <td>no name yet</td>\n",
       "      <td>1</td>\n",
       "      <td>265</td>\n",
       "      <td>0</td>\n",
       "      <td>1</td>\n",
       "      <td>2</td>\n",
       "      <td>0</td>\n",
       "      <td>2</td>\n",
       "      <td>2</td>\n",
       "      <td>...</td>\n",
       "      <td>0</td>\n",
       "      <td>0</td>\n",
       "      <td>0</td>\n",
       "      <td>0</td>\n",
       "      <td>0</td>\n",
       "      <td>0</td>\n",
       "      <td>0</td>\n",
       "      <td>0</td>\n",
       "      <td>1</td>\n",
       "      <td>0</td>\n",
       "    </tr>\n",
       "    <tr>\n",
       "      <th>3422e4906</th>\n",
       "      <td>2</td>\n",
       "      <td>brisco</td>\n",
       "      <td>1</td>\n",
       "      <td>307</td>\n",
       "      <td>0</td>\n",
       "      <td>2</td>\n",
       "      <td>7</td>\n",
       "      <td>0</td>\n",
       "      <td>2</td>\n",
       "      <td>2</td>\n",
       "      <td>...</td>\n",
       "      <td>0</td>\n",
       "      <td>0</td>\n",
       "      <td>0</td>\n",
       "      <td>0</td>\n",
       "      <td>0</td>\n",
       "      <td>0</td>\n",
       "      <td>0</td>\n",
       "      <td>0</td>\n",
       "      <td>0</td>\n",
       "      <td>0</td>\n",
       "    </tr>\n",
       "    <tr>\n",
       "      <th>5842f1ff5</th>\n",
       "      <td>3</td>\n",
       "      <td>miko</td>\n",
       "      <td>4</td>\n",
       "      <td>307</td>\n",
       "      <td>0</td>\n",
       "      <td>1</td>\n",
       "      <td>2</td>\n",
       "      <td>0</td>\n",
       "      <td>2</td>\n",
       "      <td>1</td>\n",
       "      <td>...</td>\n",
       "      <td>0</td>\n",
       "      <td>0</td>\n",
       "      <td>0</td>\n",
       "      <td>0</td>\n",
       "      <td>0</td>\n",
       "      <td>0</td>\n",
       "      <td>0</td>\n",
       "      <td>0</td>\n",
       "      <td>1</td>\n",
       "      <td>0</td>\n",
       "    </tr>\n",
       "    <tr>\n",
       "      <th>850a43f90</th>\n",
       "      <td>4</td>\n",
       "      <td>hunter</td>\n",
       "      <td>1</td>\n",
       "      <td>307</td>\n",
       "      <td>0</td>\n",
       "      <td>1</td>\n",
       "      <td>0</td>\n",
       "      <td>0</td>\n",
       "      <td>2</td>\n",
       "      <td>1</td>\n",
       "      <td>...</td>\n",
       "      <td>0</td>\n",
       "      <td>0</td>\n",
       "      <td>0</td>\n",
       "      <td>0</td>\n",
       "      <td>0</td>\n",
       "      <td>0</td>\n",
       "      <td>0</td>\n",
       "      <td>0</td>\n",
       "      <td>0</td>\n",
       "      <td>0</td>\n",
       "    </tr>\n",
       "  </tbody>\n",
       "</table>\n",
       "<p>5 rows × 51 columns</p>\n",
       "</div>"
      ],
      "text/plain": [
       "           Unnamed: 0         Name  Age  Breed1  Breed2  Color1  Color2  \\\n",
       "PetID                                                                     \n",
       "86e1089a3           0       nibble    3     299       0       1       7   \n",
       "6296e909a           1  no name yet    1     265       0       1       2   \n",
       "3422e4906           2       brisco    1     307       0       2       7   \n",
       "5842f1ff5           3         miko    4     307       0       1       2   \n",
       "850a43f90           4       hunter    1     307       0       1       0   \n",
       "\n",
       "           Color3  MaturitySize  FurLength     ...       State_41330  \\\n",
       "PetID                                          ...                     \n",
       "86e1089a3       0             1          1     ...                 0   \n",
       "6296e909a       0             2          2     ...                 0   \n",
       "3422e4906       0             2          2     ...                 0   \n",
       "5842f1ff5       0             2          1     ...                 0   \n",
       "850a43f90       0             2          1     ...                 0   \n",
       "\n",
       "           State_41332  State_41335 State_41336  State_41342 State_41345  \\\n",
       "PetID                                                                      \n",
       "86e1089a3            0            0           0            0           0   \n",
       "6296e909a            0            0           0            0           0   \n",
       "3422e4906            0            0           0            0           0   \n",
       "5842f1ff5            0            0           0            0           0   \n",
       "850a43f90            0            0           0            0           0   \n",
       "\n",
       "           State_41361  State_41367  State_41401  State_41415  \n",
       "PetID                                                          \n",
       "86e1089a3            0            0            0            0  \n",
       "6296e909a            0            0            1            0  \n",
       "3422e4906            0            0            0            0  \n",
       "5842f1ff5            0            0            1            0  \n",
       "850a43f90            0            0            0            0  \n",
       "\n",
       "[5 rows x 51 columns]"
      ]
     },
     "execution_count": 3,
     "metadata": {},
     "output_type": "execute_result"
    }
   ],
   "source": [
    "train.head()"
   ]
  },
  {
   "cell_type": "code",
   "execution_count": 4,
   "metadata": {},
   "outputs": [
    {
     "name": "stdout",
     "output_type": "stream",
     "text": [
      "<class 'pandas.core.frame.DataFrame'>\n",
      "Index: 14993 entries, 86e1089a3 to a83d95ead\n",
      "Data columns (total 51 columns):\n",
      "Unnamed: 0        14993 non-null int64\n",
      "Name              14993 non-null object\n",
      "Age               14993 non-null int64\n",
      "Breed1            14993 non-null int64\n",
      "Breed2            14993 non-null int64\n",
      "Color1            14993 non-null int64\n",
      "Color2            14993 non-null int64\n",
      "Color3            14993 non-null int64\n",
      "MaturitySize      14993 non-null int64\n",
      "FurLength         14993 non-null int64\n",
      "Health            14993 non-null int64\n",
      "Quantity          14993 non-null int64\n",
      "Fee               14993 non-null int64\n",
      "RescuerID         14993 non-null object\n",
      "VideoAmt          14993 non-null int64\n",
      "Description       14981 non-null object\n",
      "PhotoAmt          14993 non-null float64\n",
      "AdoptionSpeed     14993 non-null int64\n",
      "des_sent_mag      14993 non-null float64\n",
      "des_sent_score    14993 non-null float64\n",
      "named             14993 non-null int64\n",
      "mixed_breed       14993 non-null int64\n",
      "mixed_color       14993 non-null int64\n",
      "Type_1            14993 non-null int64\n",
      "Type_2            14993 non-null int64\n",
      "Gender_1          14993 non-null int64\n",
      "Gender_2          14993 non-null int64\n",
      "Gender_3          14993 non-null int64\n",
      "Vaccinated_1      14993 non-null int64\n",
      "Vaccinated_2      14993 non-null int64\n",
      "Vaccinated_3      14993 non-null int64\n",
      "Dewormed_1        14993 non-null int64\n",
      "Dewormed_2        14993 non-null int64\n",
      "Dewormed_3        14993 non-null int64\n",
      "Sterilized_1      14993 non-null int64\n",
      "Sterilized_2      14993 non-null int64\n",
      "Sterilized_3      14993 non-null int64\n",
      "State_41324       14993 non-null int64\n",
      "State_41325       14993 non-null int64\n",
      "State_41326       14993 non-null int64\n",
      "State_41327       14993 non-null int64\n",
      "State_41330       14993 non-null int64\n",
      "State_41332       14993 non-null int64\n",
      "State_41335       14993 non-null int64\n",
      "State_41336       14993 non-null int64\n",
      "State_41342       14993 non-null int64\n",
      "State_41345       14993 non-null int64\n",
      "State_41361       14993 non-null int64\n",
      "State_41367       14993 non-null int64\n",
      "State_41401       14993 non-null int64\n",
      "State_41415       14993 non-null int64\n",
      "dtypes: float64(3), int64(45), object(3)\n",
      "memory usage: 5.9+ MB\n"
     ]
    }
   ],
   "source": [
    "train.info()"
   ]
  },
  {
   "cell_type": "code",
   "execution_count": 5,
   "metadata": {},
   "outputs": [
    {
     "data": {
      "text/html": [
       "<div>\n",
       "<style scoped>\n",
       "    .dataframe tbody tr th:only-of-type {\n",
       "        vertical-align: middle;\n",
       "    }\n",
       "\n",
       "    .dataframe tbody tr th {\n",
       "        vertical-align: top;\n",
       "    }\n",
       "\n",
       "    .dataframe thead th {\n",
       "        text-align: right;\n",
       "    }\n",
       "</style>\n",
       "<table border=\"1\" class=\"dataframe\">\n",
       "  <thead>\n",
       "    <tr style=\"text-align: right;\">\n",
       "      <th></th>\n",
       "      <th>Unnamed: 0</th>\n",
       "      <th>Name</th>\n",
       "      <th>Age</th>\n",
       "      <th>Breed1</th>\n",
       "      <th>Breed2</th>\n",
       "      <th>Color1</th>\n",
       "      <th>Color2</th>\n",
       "      <th>Color3</th>\n",
       "      <th>MaturitySize</th>\n",
       "      <th>FurLength</th>\n",
       "      <th>...</th>\n",
       "      <th>State_41330</th>\n",
       "      <th>State_41332</th>\n",
       "      <th>State_41335</th>\n",
       "      <th>State_41336</th>\n",
       "      <th>State_41342</th>\n",
       "      <th>State_41345</th>\n",
       "      <th>State_41361</th>\n",
       "      <th>State_41367</th>\n",
       "      <th>State_41401</th>\n",
       "      <th>State_41415</th>\n",
       "    </tr>\n",
       "    <tr>\n",
       "      <th>PetID</th>\n",
       "      <th></th>\n",
       "      <th></th>\n",
       "      <th></th>\n",
       "      <th></th>\n",
       "      <th></th>\n",
       "      <th></th>\n",
       "      <th></th>\n",
       "      <th></th>\n",
       "      <th></th>\n",
       "      <th></th>\n",
       "      <th></th>\n",
       "      <th></th>\n",
       "      <th></th>\n",
       "      <th></th>\n",
       "      <th></th>\n",
       "      <th></th>\n",
       "      <th></th>\n",
       "      <th></th>\n",
       "      <th></th>\n",
       "      <th></th>\n",
       "      <th></th>\n",
       "    </tr>\n",
       "  </thead>\n",
       "  <tbody>\n",
       "    <tr>\n",
       "      <th>378fcc4fc</th>\n",
       "      <td>0</td>\n",
       "      <td>Puppy</td>\n",
       "      <td>2</td>\n",
       "      <td>307</td>\n",
       "      <td>0</td>\n",
       "      <td>1</td>\n",
       "      <td>0</td>\n",
       "      <td>0</td>\n",
       "      <td>2</td>\n",
       "      <td>2</td>\n",
       "      <td>...</td>\n",
       "      <td>0</td>\n",
       "      <td>0</td>\n",
       "      <td>0</td>\n",
       "      <td>0</td>\n",
       "      <td>0</td>\n",
       "      <td>0</td>\n",
       "      <td>0</td>\n",
       "      <td>0</td>\n",
       "      <td>0</td>\n",
       "      <td>0</td>\n",
       "    </tr>\n",
       "    <tr>\n",
       "      <th>73c10e136</th>\n",
       "      <td>1</td>\n",
       "      <td>London</td>\n",
       "      <td>24</td>\n",
       "      <td>266</td>\n",
       "      <td>0</td>\n",
       "      <td>2</td>\n",
       "      <td>7</td>\n",
       "      <td>0</td>\n",
       "      <td>2</td>\n",
       "      <td>1</td>\n",
       "      <td>...</td>\n",
       "      <td>0</td>\n",
       "      <td>0</td>\n",
       "      <td>0</td>\n",
       "      <td>0</td>\n",
       "      <td>0</td>\n",
       "      <td>0</td>\n",
       "      <td>0</td>\n",
       "      <td>0</td>\n",
       "      <td>0</td>\n",
       "      <td>0</td>\n",
       "    </tr>\n",
       "    <tr>\n",
       "      <th>72000c4c5</th>\n",
       "      <td>2</td>\n",
       "      <td>Snowball</td>\n",
       "      <td>20</td>\n",
       "      <td>266</td>\n",
       "      <td>0</td>\n",
       "      <td>7</td>\n",
       "      <td>0</td>\n",
       "      <td>0</td>\n",
       "      <td>2</td>\n",
       "      <td>1</td>\n",
       "      <td>...</td>\n",
       "      <td>0</td>\n",
       "      <td>0</td>\n",
       "      <td>0</td>\n",
       "      <td>0</td>\n",
       "      <td>0</td>\n",
       "      <td>0</td>\n",
       "      <td>0</td>\n",
       "      <td>0</td>\n",
       "      <td>0</td>\n",
       "      <td>0</td>\n",
       "    </tr>\n",
       "    <tr>\n",
       "      <th>e147a4b9f</th>\n",
       "      <td>3</td>\n",
       "      <td>Malibu</td>\n",
       "      <td>5</td>\n",
       "      <td>266</td>\n",
       "      <td>252</td>\n",
       "      <td>1</td>\n",
       "      <td>6</td>\n",
       "      <td>7</td>\n",
       "      <td>2</td>\n",
       "      <td>1</td>\n",
       "      <td>...</td>\n",
       "      <td>0</td>\n",
       "      <td>0</td>\n",
       "      <td>0</td>\n",
       "      <td>0</td>\n",
       "      <td>0</td>\n",
       "      <td>0</td>\n",
       "      <td>0</td>\n",
       "      <td>0</td>\n",
       "      <td>0</td>\n",
       "      <td>0</td>\n",
       "    </tr>\n",
       "    <tr>\n",
       "      <th>43fbba852</th>\n",
       "      <td>4</td>\n",
       "      <td>Lala Girl</td>\n",
       "      <td>6</td>\n",
       "      <td>307</td>\n",
       "      <td>0</td>\n",
       "      <td>1</td>\n",
       "      <td>2</td>\n",
       "      <td>7</td>\n",
       "      <td>2</td>\n",
       "      <td>1</td>\n",
       "      <td>...</td>\n",
       "      <td>0</td>\n",
       "      <td>0</td>\n",
       "      <td>0</td>\n",
       "      <td>0</td>\n",
       "      <td>0</td>\n",
       "      <td>0</td>\n",
       "      <td>0</td>\n",
       "      <td>0</td>\n",
       "      <td>0</td>\n",
       "      <td>0</td>\n",
       "    </tr>\n",
       "  </tbody>\n",
       "</table>\n",
       "<p>5 rows × 50 columns</p>\n",
       "</div>"
      ],
      "text/plain": [
       "           Unnamed: 0       Name  Age  Breed1  Breed2  Color1  Color2  Color3  \\\n",
       "PetID                                                                           \n",
       "378fcc4fc           0      Puppy    2     307       0       1       0       0   \n",
       "73c10e136           1     London   24     266       0       2       7       0   \n",
       "72000c4c5           2   Snowball   20     266       0       7       0       0   \n",
       "e147a4b9f           3     Malibu    5     266     252       1       6       7   \n",
       "43fbba852           4  Lala Girl    6     307       0       1       2       7   \n",
       "\n",
       "           MaturitySize  FurLength     ...       State_41330  State_41332  \\\n",
       "PetID                                  ...                                  \n",
       "378fcc4fc             2          2     ...                 0            0   \n",
       "73c10e136             2          1     ...                 0            0   \n",
       "72000c4c5             2          1     ...                 0            0   \n",
       "e147a4b9f             2          1     ...                 0            0   \n",
       "43fbba852             2          1     ...                 0            0   \n",
       "\n",
       "           State_41335 State_41336  State_41342 State_41345  State_41361  \\\n",
       "PetID                                                                      \n",
       "378fcc4fc            0           0            0           0            0   \n",
       "73c10e136            0           0            0           0            0   \n",
       "72000c4c5            0           0            0           0            0   \n",
       "e147a4b9f            0           0            0           0            0   \n",
       "43fbba852            0           0            0           0            0   \n",
       "\n",
       "           State_41367  State_41401  State_41415  \n",
       "PetID                                             \n",
       "378fcc4fc            0            0            0  \n",
       "73c10e136            0            0            0  \n",
       "72000c4c5            0            0            0  \n",
       "e147a4b9f            0            0            0  \n",
       "43fbba852            0            0            0  \n",
       "\n",
       "[5 rows x 50 columns]"
      ]
     },
     "execution_count": 5,
     "metadata": {},
     "output_type": "execute_result"
    }
   ],
   "source": [
    "test.head()"
   ]
  },
  {
   "cell_type": "code",
   "execution_count": 6,
   "metadata": {},
   "outputs": [
    {
     "name": "stdout",
     "output_type": "stream",
     "text": [
      "<class 'pandas.core.frame.DataFrame'>\n",
      "Index: 3948 entries, 378fcc4fc to e5bbe3e54\n",
      "Data columns (total 50 columns):\n",
      "Unnamed: 0        3948 non-null int64\n",
      "Name              3948 non-null object\n",
      "Age               3948 non-null int64\n",
      "Breed1            3948 non-null int64\n",
      "Breed2            3948 non-null int64\n",
      "Color1            3948 non-null int64\n",
      "Color2            3948 non-null int64\n",
      "Color3            3948 non-null int64\n",
      "MaturitySize      3948 non-null int64\n",
      "FurLength         3948 non-null int64\n",
      "Health            3948 non-null int64\n",
      "Quantity          3948 non-null int64\n",
      "Fee               3948 non-null int64\n",
      "RescuerID         3948 non-null object\n",
      "VideoAmt          3948 non-null int64\n",
      "Description       3946 non-null object\n",
      "PhotoAmt          3948 non-null float64\n",
      "des_sent_mag      3948 non-null float64\n",
      "des_sent_score    3948 non-null float64\n",
      "named             3948 non-null int64\n",
      "mixed_breed       3948 non-null int64\n",
      "mixed_color       3948 non-null int64\n",
      "Type_1            3948 non-null int64\n",
      "Type_2            3948 non-null int64\n",
      "Gender_1          3948 non-null int64\n",
      "Gender_2          3948 non-null int64\n",
      "Gender_3          3948 non-null int64\n",
      "Vaccinated_1      3948 non-null int64\n",
      "Vaccinated_2      3948 non-null int64\n",
      "Vaccinated_3      3948 non-null int64\n",
      "Dewormed_1        3948 non-null int64\n",
      "Dewormed_2        3948 non-null int64\n",
      "Dewormed_3        3948 non-null int64\n",
      "Sterilized_1      3948 non-null int64\n",
      "Sterilized_2      3948 non-null int64\n",
      "Sterilized_3      3948 non-null int64\n",
      "State_41324       3948 non-null int64\n",
      "State_41325       3948 non-null int64\n",
      "State_41326       3948 non-null int64\n",
      "State_41327       3948 non-null int64\n",
      "State_41330       3948 non-null int64\n",
      "State_41332       3948 non-null int64\n",
      "State_41335       3948 non-null int64\n",
      "State_41336       3948 non-null int64\n",
      "State_41342       3948 non-null int64\n",
      "State_41345       3948 non-null int64\n",
      "State_41361       3948 non-null int64\n",
      "State_41367       3948 non-null int64\n",
      "State_41401       3948 non-null int64\n",
      "State_41415       3948 non-null int64\n",
      "dtypes: float64(3), int64(44), object(3)\n",
      "memory usage: 1.5+ MB\n"
     ]
    }
   ],
   "source": [
    "test.info()"
   ]
  },
  {
   "cell_type": "markdown",
   "metadata": {},
   "source": [
    "In the *Feature_Engineering* notebook, new columns like ``named``, ``mixed_breed``, and ``mixed_color`` were added to simplify and condense multiple columns. Therefore the columns like ``Name``, ``Breed1``, ``Breed2``, etc. can be removed since they're correlated to each other."
   ]
  },
  {
   "cell_type": "code",
   "execution_count": 7,
   "metadata": {},
   "outputs": [],
   "source": [
    "# Create list of columns to be removed\n",
    "remove_cols = ['Name', 'Breed1', 'Breed2', 'Color1', 'Color2', 'Color3', 'Description']"
   ]
  },
  {
   "cell_type": "code",
   "execution_count": 8,
   "metadata": {},
   "outputs": [],
   "source": [
    "# Remove columns from train and test sets\n",
    "train_removed = train.drop(remove_cols, axis = 1)\n",
    "test_removed = test.drop(remove_cols, axis = 1)"
   ]
  },
  {
   "cell_type": "markdown",
   "metadata": {},
   "source": [
    "## A Brief Look at ``RescuerID``\n",
    "\n",
    "Other columns like ``RescuerID`` and ``PetID`` should also be removed before further analysis since identifiers like these should be independent of how quickly a pet is adopted. However, ``RescuerID`` is interesting because some rescuers could be better at documenting pets than others, offering more insight and better descriptions of the pets they list. Quickly looking at the statistics of ``RescuerID`` could help determine if this column is relevant."
   ]
  },
  {
   "cell_type": "code",
   "execution_count": 9,
   "metadata": {},
   "outputs": [
    {
     "name": "stdout",
     "output_type": "stream",
     "text": [
      "Number of unique rescuers in train: 5595\n"
     ]
    }
   ],
   "source": [
    "# Get count of the number of rescuers\n",
    "train_rescuers = train_removed['RescuerID'].unique()\n",
    "\n",
    "print('Number of unique rescuers in train: %d' % len(train_rescuers))"
   ]
  },
  {
   "cell_type": "code",
   "execution_count": 10,
   "metadata": {},
   "outputs": [],
   "source": [
    "# Aggregate des_sent_mag and des_sent_score by RescuerID\n",
    "rescuers = train_removed.groupby('RescuerID')['AdoptionSpeed', 'des_sent_mag', 'des_sent_score', 'named'].agg({'named':'count',\n",
    "                                                                                                               'AdoptionSpeed':'mean',\n",
    "                                                                                                               'des_sent_mag':'mean',\n",
    "                                                                                                               'des_sent_score':'mean'})"
   ]
  },
  {
   "cell_type": "code",
   "execution_count": 11,
   "metadata": {},
   "outputs": [
    {
     "data": {
      "image/png": "[encoded data removed]",
      "text/plain": [
       "<Figure size 1440x720 with 2 Axes>"
      ]
     },
     "metadata": {
      "needs_background": "light"
     },
     "output_type": "display_data"
    }
   ],
   "source": [
    "_ = plt.figure(figsize=(20, 10))\n",
    "_ = plt.subplot(1, 2, 1)\n",
    "_ = plt.scatter(rescuers['des_sent_mag'], rescuers['AdoptionSpeed'])\n",
    "_ = plt.title('AdoptionSpeed vs. des_sent_mag')\n",
    "_ = plt.xlabel('des_sent_mag')\n",
    "_ = plt.ylabel('AdoptionSpeed')\n",
    "\n",
    "_ = plt.subplot(1, 2, 2)\n",
    "_ = plt.scatter(rescuers['des_sent_score'], rescuers['AdoptionSpeed'])\n",
    "_ = plt.title('AdoptionSpeed vs. des_sent_score')\n",
    "_ = plt.xlabel('des_sent_score')\n",
    "_ = plt.ylabel('AdoptionSpeed')"
   ]
  },
  {
   "cell_type": "code",
   "execution_count": 12,
   "metadata": {},
   "outputs": [
    {
     "data": {
      "text/html": [
       "<div>\n",
       "<style scoped>\n",
       "    .dataframe tbody tr th:only-of-type {\n",
       "        vertical-align: middle;\n",
       "    }\n",
       "\n",
       "    .dataframe tbody tr th {\n",
       "        vertical-align: top;\n",
       "    }\n",
       "\n",
       "    .dataframe thead th {\n",
       "        text-align: right;\n",
       "    }\n",
       "</style>\n",
       "<table border=\"1\" class=\"dataframe\">\n",
       "  <thead>\n",
       "    <tr style=\"text-align: right;\">\n",
       "      <th></th>\n",
       "      <th>named</th>\n",
       "      <th>AdoptionSpeed</th>\n",
       "      <th>des_sent_mag</th>\n",
       "      <th>des_sent_score</th>\n",
       "    </tr>\n",
       "  </thead>\n",
       "  <tbody>\n",
       "    <tr>\n",
       "      <th>named</th>\n",
       "      <td>1.000000</td>\n",
       "      <td>-0.035519</td>\n",
       "      <td>-0.001816</td>\n",
       "      <td>-0.001247</td>\n",
       "    </tr>\n",
       "    <tr>\n",
       "      <th>AdoptionSpeed</th>\n",
       "      <td>-0.035519</td>\n",
       "      <td>1.000000</td>\n",
       "      <td>-0.044734</td>\n",
       "      <td>0.029720</td>\n",
       "    </tr>\n",
       "    <tr>\n",
       "      <th>des_sent_mag</th>\n",
       "      <td>-0.001816</td>\n",
       "      <td>-0.044734</td>\n",
       "      <td>1.000000</td>\n",
       "      <td>0.064016</td>\n",
       "    </tr>\n",
       "    <tr>\n",
       "      <th>des_sent_score</th>\n",
       "      <td>-0.001247</td>\n",
       "      <td>0.029720</td>\n",
       "      <td>0.064016</td>\n",
       "      <td>1.000000</td>\n",
       "    </tr>\n",
       "  </tbody>\n",
       "</table>\n",
       "</div>"
      ],
      "text/plain": [
       "                   named  AdoptionSpeed  des_sent_mag  des_sent_score\n",
       "named           1.000000      -0.035519     -0.001816       -0.001247\n",
       "AdoptionSpeed  -0.035519       1.000000     -0.044734        0.029720\n",
       "des_sent_mag   -0.001816      -0.044734      1.000000        0.064016\n",
       "des_sent_score -0.001247       0.029720      0.064016        1.000000"
      ]
     },
     "execution_count": 12,
     "metadata": {},
     "output_type": "execute_result"
    }
   ],
   "source": [
    "rescuers.corr()"
   ]
  },
  {
   "cell_type": "markdown",
   "metadata": {},
   "source": [
    "Based on these plots and the correlation between ``AdoptionSpeed`` and the two description quantities, it doesn't seem to matter who posts the pets when it comes to ``AdoptionSpeed``. That means both ``RescuerID`` and ``PetID`` can be removed from the training and test sets."
   ]
  },
  {
   "cell_type": "code",
   "execution_count": 13,
   "metadata": {},
   "outputs": [],
   "source": [
    "# Remove RescuerID and PetID from train and test set\n",
    "train_new = train_removed.drop('RescuerID', axis = 1)\n",
    "test_new = test_removed.drop('RescuerID', axis = 1)"
   ]
  },
  {
   "cell_type": "markdown",
   "metadata": {},
   "source": [
    "# Data Preprocessing\n",
    "\n",
    "A few items need to be checked before moving on to modeling the data. The first is to check the distribution of values in the target variable. This will help determine if there's a class imbalance that needs to be handled."
   ]
  },
  {
   "cell_type": "code",
   "execution_count": 14,
   "metadata": {},
   "outputs": [
    {
     "data": {
      "text/plain": [
       "AdoptionSpeed\n",
       "0     410\n",
       "1    3090\n",
       "2    4037\n",
       "3    3259\n",
       "4    4197\n",
       "Name: Age, dtype: int64"
      ]
     },
     "execution_count": 14,
     "metadata": {},
     "output_type": "execute_result"
    }
   ],
   "source": [
    "# Obtain counts of AdoptionSpeed values\n",
    "adoption_counts = train_new.groupby('AdoptionSpeed')['Age'].count()\n",
    "adoption_counts"
   ]
  },
  {
   "cell_type": "markdown",
   "metadata": {},
   "source": [
    "Aside from ``AdoptionSpeed`` of $0$, the classes seem balanced for the most part. For the first iteration of the model, balancing the classes won't be necessary but is something to think about when building upon it.\n",
    "\n",
    "Next is to split the data into a true training set and a validation set to evaluate our model."
   ]
  },
  {
   "cell_type": "code",
   "execution_count": 15,
   "metadata": {},
   "outputs": [],
   "source": [
    "# Separate feature and target variables from train_new\n",
    "X, y = train_new.drop('AdoptionSpeed', axis = 1), train_new['AdoptionSpeed']"
   ]
  },
  {
   "cell_type": "code",
   "execution_count": 16,
   "metadata": {},
   "outputs": [],
   "source": [
    "# Split train data into training and validation sets\n",
    "X_train, X_val, y_train, y_val = train_test_split(X, y,\n",
    "                                                 test_size = 0.3,\n",
    "                                                 random_state = 456,\n",
    "                                                 stratify = y)"
   ]
  },
  {
   "cell_type": "markdown",
   "metadata": {},
   "source": [
    "# Machine Learning Algorithms\n",
    "\n",
    "Now that the data is in a favorable format, the next step is to determine which model best suits the needs of the problem. Given that the problem is to predict how long a pet is expected to be adopted, broken into 5 distinct groups, a supervised classification algorithm is most suitable. Of the different algorithms, a random forest or XGBoost learner is recommended for its speed and accuracy for training the nearly 15,000 data points in this problem. An attempt creating a support vector machine (SVM) or k-nearest neighbors (kNN) model will be done but isn't advised due to their slow training speeds. A neural network would also be suitable if there were more observations in the data."
   ]
  },
  {
   "cell_type": "markdown",
   "metadata": {},
   "source": [
    "## Evaluation Metric\n",
    "\n",
    "For a model to be valid, it has to be able to perform better than random guessing. In this multiclassification problem, that's better than the percentage of observations in the most common class."
   ]
  },
  {
   "cell_type": "code",
   "execution_count": 17,
   "metadata": {},
   "outputs": [
    {
     "data": {
      "text/plain": [
       "AdoptionSpeed\n",
       "0    0.027346\n",
       "1    0.206096\n",
       "2    0.269259\n",
       "3    0.217368\n",
       "4    0.279931\n",
       "Name: Age, dtype: float64"
      ]
     },
     "execution_count": 17,
     "metadata": {},
     "output_type": "execute_result"
    }
   ],
   "source": [
    "# Calculate percentage of each class\n",
    "adoption_counts/len(train_new)"
   ]
  },
  {
   "cell_type": "markdown",
   "metadata": {},
   "source": [
    "Here, an ``AdoptionSpeed`` of $4$ occurred the most at around $28%$ of the time so the model should have an accuracy *at least* this good to be considered. Below, I've pulled a function from a previous project of mine and modified it for this problem."
   ]
  },
  {
   "cell_type": "code",
   "execution_count": 18,
   "metadata": {},
   "outputs": [],
   "source": [
    "def model_metrics(model, val_features, val_labels, regressor = False):\n",
    "    '''This function will print the metrics and scores of a model on test data'''\n",
    "    \n",
    "    # Make predictions on the test data\n",
    "    if regressor == False:\n",
    "        predictions = model.predict(val_features)\n",
    "        predictions_df = pd.DataFrame(predictions)\n",
    "    else:\n",
    "        predictions = model.predict(val_features)\n",
    "        predictions = np.round(predictions)\n",
    "    \n",
    "    # Calculate kappa score\n",
    "    kappa = cohen_kappa_score(val_labels, predictions)\n",
    "    print('Kappa = %.2f' % kappa)\n",
    "    \n",
    "    # Print accuracy\n",
    "    acc = accuracy_score(val_labels, predictions)\n",
    "    print('Accuracy = %.2f' % acc)\n",
    "    \n",
    "    # Print classification report\n",
    "    print(classification_report(val_labels, predictions))\n",
    "    \n",
    "    # Calculate AUC score\n",
    "    # auc = roc_auc_score(val_labels, predictions_df)\n",
    "    # print('AUC = %.2f' % auc)\n",
    "    \n",
    "    # Calculate confusion matrix\n",
    "    cm = confusion_matrix(val_labels, predictions)\n",
    "    cm_df = pd.DataFrame(cm)\n",
    "    \n",
    "    # Plot the confusion matrix\n",
    "    _ = plt.figure(figsize=(10, 10))\n",
    "    _ = sns.heatmap(cm_df, annot = True, fmt = 'd', cmap = 'coolwarm')\n",
    "    _ = plt.title('Model Confusion Matrix')\n",
    "    _ = plt.xlabel('Prediction Value')\n",
    "    _ = plt.ylabel('True Value')"
   ]
  },
  {
   "cell_type": "markdown",
   "metadata": {},
   "source": [
    "## Random Forest Classifier"
   ]
  },
  {
   "cell_type": "code",
   "execution_count": 19,
   "metadata": {},
   "outputs": [],
   "source": [
    "from sklearn.ensemble import RandomForestClassifier"
   ]
  },
  {
   "cell_type": "code",
   "execution_count": 20,
   "metadata": {},
   "outputs": [],
   "source": [
    "# Instantiate RandomForestClassifier\n",
    "rfc = RandomForestClassifier()"
   ]
  },
  {
   "cell_type": "code",
   "execution_count": 21,
   "metadata": {},
   "outputs": [],
   "source": [
    "# Define a parameter grid for GridSearchCV\n",
    "rfc_n_estimators = [10, 50, 100, 150]\n",
    "rfc_max_depth = [2, 5, 10, 15, 20]\n",
    "rfc_min_samples_split = [2, 5, 10, 15]\n",
    "\n",
    "rfc_param_grid = {'n_estimators':rfc_n_estimators,\n",
    "                  'max_depth':rfc_max_depth,\n",
    "                  'min_samples_split':rfc_min_samples_split}"
   ]
  },
  {
   "cell_type": "code",
   "execution_count": 22,
   "metadata": {},
   "outputs": [],
   "source": [
    "# Define GridSearchCV for RandomForestClassifier\n",
    "rfc_cv = GridSearchCV(rfc, \n",
    "                      rfc_param_grid,\n",
    "                      cv = 5,\n",
    "                      scoring='accuracy',\n",
    "                      n_jobs = 4,\n",
    "                      verbose = -1)"
   ]
  },
  {
   "cell_type": "code",
   "execution_count": 23,
   "metadata": {
    "scrolled": true
   },
   "outputs": [
    {
     "name": "stderr",
     "output_type": "stream",
     "text": [
      "[Parallel(n_jobs=4)]: Using backend LokyBackend with 4 concurrent workers.\n",
      "[Parallel(n_jobs=4)]: Done  64 tasks      | elapsed:    5.4s\n",
      "[Parallel(n_jobs=4)]: Done 280 tasks      | elapsed:   33.3s\n",
      "[Parallel(n_jobs=4)]: Done 400 out of 400 | elapsed:   57.3s finished\n"
     ]
    },
    {
     "data": {
      "text/plain": [
       "GridSearchCV(cv=5, error_score='raise-deprecating',\n",
       "       estimator=RandomForestClassifier(bootstrap=True, class_weight=None, criterion='gini',\n",
       "            max_depth=None, max_features='auto', max_leaf_nodes=None,\n",
       "            min_impurity_decrease=0.0, min_impurity_split=None,\n",
       "            min_samples_leaf=1, min_samples_split=2,\n",
       "            min_weight_fraction_leaf=0.0, n_estimators='warn', n_jobs=None,\n",
       "            oob_score=False, random_state=None, verbose=0,\n",
       "            warm_start=False),\n",
       "       fit_params=None, iid='warn', n_jobs=4,\n",
       "       param_grid={'n_estimators': [10, 50, 100, 150], 'max_depth': [2, 5, 10, 15, 20], 'min_samples_split': [2, 5, 10, 15]},\n",
       "       pre_dispatch='2*n_jobs', refit=True, return_train_score='warn',\n",
       "       scoring='accuracy', verbose=-1)"
      ]
     },
     "execution_count": 23,
     "metadata": {},
     "output_type": "execute_result"
    }
   ],
   "source": [
    "# Fit rfc_cv to training data\n",
    "rfc_cv.fit(X_train, y_train)"
   ]
  },
  {
   "cell_type": "code",
   "execution_count": 24,
   "metadata": {},
   "outputs": [
    {
     "data": {
      "text/plain": [
       "{'max_depth': 20, 'min_samples_split': 5, 'n_estimators': 150}"
      ]
     },
     "execution_count": 24,
     "metadata": {},
     "output_type": "execute_result"
    }
   ],
   "source": [
    "rfc_cv.best_params_"
   ]
  },
  {
   "cell_type": "code",
   "execution_count": 25,
   "metadata": {
    "scrolled": false
   },
   "outputs": [
    {
     "name": "stdout",
     "output_type": "stream",
     "text": [
      "Kappa = 0.19\n",
      "Accuracy = 0.40\n",
      "              precision    recall  f1-score   support\n",
      "\n",
      "           0       1.00      0.02      0.05       123\n",
      "           1       0.34      0.25      0.29       927\n",
      "           2       0.35      0.40      0.37      1211\n",
      "           3       0.40      0.24      0.30       978\n",
      "           4       0.46      0.68      0.55      1259\n",
      "\n",
      "   micro avg       0.40      0.40      0.40      4498\n",
      "   macro avg       0.51      0.32      0.31      4498\n",
      "weighted avg       0.41      0.40      0.38      4498\n",
      "\n"
     ]
    },
    {
     "data": {
      "image/png": "[encoded data removed]",
      "text/plain": [
       "<Figure size 720x720 with 2 Axes>"
      ]
     },
     "metadata": {
      "needs_background": "light"
     },
     "output_type": "display_data"
    }
   ],
   "source": [
    "model_metrics(rfc_cv.best_estimator_, X_val, y_val)"
   ]
  },
  {
   "cell_type": "markdown",
   "metadata": {},
   "source": [
    "Refine the parameters to fine tune the model"
   ]
  },
  {
   "cell_type": "code",
   "execution_count": 26,
   "metadata": {},
   "outputs": [],
   "source": [
    "# Refine grid parameters\n",
    "rfc2_n_estimators = [i for i in range(100, 200, 10)]\n",
    "rfc2_max_depth = [18, 20, 22]\n",
    "rfc2_min_samples_split = [5]\n",
    "\n",
    "rfc2_param_grid = {'n_estimators':rfc2_n_estimators,\n",
    "                  'max_depth':rfc2_max_depth,\n",
    "                  'min_samples_split':rfc2_min_samples_split}"
   ]
  },
  {
   "cell_type": "code",
   "execution_count": 27,
   "metadata": {},
   "outputs": [],
   "source": [
    "rfc2 = RandomForestClassifier()"
   ]
  },
  {
   "cell_type": "code",
   "execution_count": 28,
   "metadata": {},
   "outputs": [],
   "source": [
    "rfc2_cv = GridSearchCV(rfc2,\n",
    "                       rfc2_param_grid,\n",
    "                       cv = 5,\n",
    "                       scoring='accuracy',\n",
    "                       n_jobs = 4,\n",
    "                       verbose = -1)"
   ]
  },
  {
   "cell_type": "code",
   "execution_count": 29,
   "metadata": {},
   "outputs": [
    {
     "name": "stderr",
     "output_type": "stream",
     "text": [
      "[Parallel(n_jobs=4)]: Using backend LokyBackend with 4 concurrent workers.\n",
      "[Parallel(n_jobs=4)]: Done  64 tasks      | elapsed:   23.3s\n",
      "[Parallel(n_jobs=4)]: Done 150 out of 150 | elapsed:   59.3s finished\n"
     ]
    },
    {
     "data": {
      "text/plain": [
       "GridSearchCV(cv=5, error_score='raise-deprecating',\n",
       "       estimator=RandomForestClassifier(bootstrap=True, class_weight=None, criterion='gini',\n",
       "            max_depth=None, max_features='auto', max_leaf_nodes=None,\n",
       "            min_impurity_decrease=0.0, min_impurity_split=None,\n",
       "            min_samples_leaf=1, min_samples_split=2,\n",
       "            min_weight_fraction_leaf=0.0, n_estimators='warn', n_jobs=None,\n",
       "            oob_score=False, random_state=None, verbose=0,\n",
       "            warm_start=False),\n",
       "       fit_params=None, iid='warn', n_jobs=4,\n",
       "       param_grid={'n_estimators': [100, 110, 120, 130, 140, 150, 160, 170, 180, 190], 'max_depth': [18, 20, 22], 'min_samples_split': [5]},\n",
       "       pre_dispatch='2*n_jobs', refit=True, return_train_score='warn',\n",
       "       scoring='accuracy', verbose=-1)"
      ]
     },
     "execution_count": 29,
     "metadata": {},
     "output_type": "execute_result"
    }
   ],
   "source": [
    "rfc2_cv.fit(X_train, y_train)"
   ]
  },
  {
   "cell_type": "code",
   "execution_count": 30,
   "metadata": {},
   "outputs": [
    {
     "data": {
      "text/plain": [
       "{'max_depth': 22, 'min_samples_split': 5, 'n_estimators': 170}"
      ]
     },
     "execution_count": 30,
     "metadata": {},
     "output_type": "execute_result"
    }
   ],
   "source": [
    "rfc2_cv.best_params_"
   ]
  },
  {
   "cell_type": "code",
   "execution_count": 31,
   "metadata": {},
   "outputs": [
    {
     "name": "stdout",
     "output_type": "stream",
     "text": [
      "Kappa = 0.21\n",
      "Accuracy = 0.41\n",
      "              precision    recall  f1-score   support\n",
      "\n",
      "           0       1.00      0.02      0.05       123\n",
      "           1       0.36      0.28      0.32       927\n",
      "           2       0.35      0.39      0.37      1211\n",
      "           3       0.41      0.25      0.31       978\n",
      "           4       0.47      0.69      0.56      1259\n",
      "\n",
      "   micro avg       0.41      0.41      0.41      4498\n",
      "   macro avg       0.52      0.33      0.32      4498\n",
      "weighted avg       0.42      0.41      0.39      4498\n",
      "\n"
     ]
    },
    {
     "data": {
      "image/png": "[encoded data removed]",
      "text/plain": [
       "<Figure size 720x720 with 2 Axes>"
      ]
     },
     "metadata": {
      "needs_background": "light"
     },
     "output_type": "display_data"
    }
   ],
   "source": [
    "model_metrics(rfc2_cv.best_estimator_, X_val, y_val)"
   ]
  },
  {
   "cell_type": "markdown",
   "metadata": {},
   "source": [
    "## XGBoost Classifier"
   ]
  },
  {
   "cell_type": "code",
   "execution_count": 32,
   "metadata": {},
   "outputs": [],
   "source": [
    "from xgboost import XGBClassifier"
   ]
  },
  {
   "cell_type": "code",
   "execution_count": 33,
   "metadata": {},
   "outputs": [],
   "source": [
    "# Define search grid \n",
    "xgb_max_depth = [i for i in range(5, 25, 5)]\n",
    "xgb_learning_rate = [0.1, 0.01]\n",
    "xgb_n_estimators = [i for i in range(25, 175, 25)]\n",
    "xgb_min_samples_split = [2, 5, 10]\n",
    "\n",
    "xgb_param_grid = {'max_depth':xgb_max_depth,\n",
    "                 'learning_rate':xgb_learning_rate,\n",
    "                 'n_estimators':xgb_n_estimators,\n",
    "                 'min_samples_split':xgb_min_samples_split}"
   ]
  },
  {
   "cell_type": "code",
   "execution_count": 34,
   "metadata": {},
   "outputs": [],
   "source": [
    "# Instantiate XGBClassifier\n",
    "xgb = XGBClassifier()"
   ]
  },
  {
   "cell_type": "code",
   "execution_count": 35,
   "metadata": {},
   "outputs": [],
   "source": [
    "# Instantiate GridSearchCV\n",
    "xgb_cv = GridSearchCV(xgb,\n",
    "                      xgb_param_grid,\n",
    "                      cv = 5,\n",
    "                      scoring='accuracy',\n",
    "                      n_jobs = 4,\n",
    "                      verbose = 0)"
   ]
  },
  {
   "cell_type": "code",
   "execution_count": 36,
   "metadata": {},
   "outputs": [
    {
     "name": "stderr",
     "output_type": "stream",
     "text": [
      "C:\\Users\\Curtis\\Anaconda3\\lib\\site-packages\\sklearn\\externals\\joblib\\externals\\loky\\process_executor.py:706: UserWarning: A worker stopped while some jobs were given to the executor. This can be caused by a too short worker timeout or by a memory leak.\n",
      "  \"timeout or by a memory leak.\", UserWarning\n",
      "C:\\Users\\Curtis\\Anaconda3\\lib\\site-packages\\sklearn\\externals\\joblib\\externals\\loky\\process_executor.py:706: UserWarning: A worker stopped while some jobs were given to the executor. This can be caused by a too short worker timeout or by a memory leak.\n",
      "  \"timeout or by a memory leak.\", UserWarning\n",
      "C:\\Users\\Curtis\\Anaconda3\\lib\\site-packages\\sklearn\\externals\\joblib\\externals\\loky\\process_executor.py:706: UserWarning: A worker stopped while some jobs were given to the executor. This can be caused by a too short worker timeout or by a memory leak.\n",
      "  \"timeout or by a memory leak.\", UserWarning\n",
      "C:\\Users\\Curtis\\Anaconda3\\lib\\site-packages\\sklearn\\externals\\joblib\\externals\\loky\\process_executor.py:706: UserWarning: A worker stopped while some jobs were given to the executor. This can be caused by a too short worker timeout or by a memory leak.\n",
      "  \"timeout or by a memory leak.\", UserWarning\n"
     ]
    },
    {
     "data": {
      "text/plain": [
       "GridSearchCV(cv=5, error_score='raise-deprecating',\n",
       "       estimator=XGBClassifier(base_score=0.5, booster='gbtree', colsample_bylevel=1,\n",
       "       colsample_bytree=1, gamma=0, learning_rate=0.1, max_delta_step=0,\n",
       "       max_depth=3, min_child_weight=1, missing=None, n_estimators=100,\n",
       "       n_jobs=1, nthread=None, objective='binary:logistic', random_state=0,\n",
       "       reg_alpha=0, reg_lambda=1, scale_pos_weight=1, seed=None,\n",
       "       silent=True, subsample=1),\n",
       "       fit_params=None, iid='warn', n_jobs=4,\n",
       "       param_grid={'max_depth': [5, 10, 15, 20], 'learning_rate': [0.1, 0.01], 'n_estimators': [25, 50, 75, 100, 125, 150], 'min_samples_split': [2, 5, 10]},\n",
       "       pre_dispatch='2*n_jobs', refit=True, return_train_score='warn',\n",
       "       scoring='accuracy', verbose=0)"
      ]
     },
     "execution_count": 36,
     "metadata": {},
     "output_type": "execute_result"
    }
   ],
   "source": [
    "xgb_cv.fit(X_train, y_train,\n",
    "           eval_set = [(X_train, y_train),(X_val, y_val)],\n",
    "           early_stopping_rounds = 50,\n",
    "           verbose = 0)"
   ]
  },
  {
   "cell_type": "code",
   "execution_count": 37,
   "metadata": {},
   "outputs": [
    {
     "data": {
      "text/plain": [
       "{'learning_rate': 0.1,\n",
       " 'max_depth': 5,\n",
       " 'min_samples_split': 2,\n",
       " 'n_estimators': 100}"
      ]
     },
     "execution_count": 37,
     "metadata": {},
     "output_type": "execute_result"
    }
   ],
   "source": [
    "xgb_cv.best_params_"
   ]
  },
  {
   "cell_type": "code",
   "execution_count": 38,
   "metadata": {},
   "outputs": [
    {
     "name": "stdout",
     "output_type": "stream",
     "text": [
      "Kappa = 0.19\n",
      "Accuracy = 0.40\n",
      "              precision    recall  f1-score   support\n",
      "\n",
      "           0       0.60      0.02      0.05       123\n",
      "           1       0.37      0.27      0.31       927\n",
      "           2       0.34      0.42      0.38      1211\n",
      "           3       0.40      0.20      0.26       978\n",
      "           4       0.45      0.66      0.54      1259\n",
      "\n",
      "   micro avg       0.40      0.40      0.40      4498\n",
      "   macro avg       0.43      0.32      0.31      4498\n",
      "weighted avg       0.40      0.40      0.38      4498\n",
      "\n"
     ]
    },
    {
     "data": {
      "image/png": "[encoded data removed]",
      "text/plain": [
       "<Figure size 720x720 with 2 Axes>"
      ]
     },
     "metadata": {
      "needs_background": "light"
     },
     "output_type": "display_data"
    }
   ],
   "source": [
    "model_metrics(xgb_cv.best_estimator_, X_val, y_val)"
   ]
  },
  {
   "cell_type": "markdown",
   "metadata": {},
   "source": [
    "Try improving upon the model by refining the parameters."
   ]
  },
  {
   "cell_type": "code",
   "execution_count": 39,
   "metadata": {},
   "outputs": [],
   "source": [
    "# Define search grid \n",
    "xgb2_max_depth = [3, 5, 7]\n",
    "xgb2_learning_rate = [0.1]\n",
    "xgb2_n_estimators = [i for i in range(30, 70, 5)]\n",
    "xgb2_min_samples_split = [2]\n",
    "\n",
    "xgb2_param_grid = {'max_depth':xgb2_max_depth,\n",
    "                 'learning_rate':xgb2_learning_rate,\n",
    "                 'n_estimators':xgb2_n_estimators,\n",
    "                 'min_samples_split':xgb2_min_samples_split}"
   ]
  },
  {
   "cell_type": "code",
   "execution_count": 40,
   "metadata": {},
   "outputs": [],
   "source": [
    "# Instantiate XGBClassifier\n",
    "xgb2 = XGBClassifier()"
   ]
  },
  {
   "cell_type": "code",
   "execution_count": 41,
   "metadata": {},
   "outputs": [],
   "source": [
    "# Instantiate GridSearchCV\n",
    "xgb2_cv = GridSearchCV(xgb2,\n",
    "                      xgb2_param_grid,\n",
    "                      cv = 5,\n",
    "                      scoring='accuracy',\n",
    "                      n_jobs = 4,\n",
    "                      verbose = 0)"
   ]
  },
  {
   "cell_type": "code",
   "execution_count": 42,
   "metadata": {},
   "outputs": [
    {
     "data": {
      "text/plain": [
       "GridSearchCV(cv=5, error_score='raise-deprecating',\n",
       "       estimator=XGBClassifier(base_score=0.5, booster='gbtree', colsample_bylevel=1,\n",
       "       colsample_bytree=1, gamma=0, learning_rate=0.1, max_delta_step=0,\n",
       "       max_depth=3, min_child_weight=1, missing=None, n_estimators=100,\n",
       "       n_jobs=1, nthread=None, objective='binary:logistic', random_state=0,\n",
       "       reg_alpha=0, reg_lambda=1, scale_pos_weight=1, seed=None,\n",
       "       silent=True, subsample=1),\n",
       "       fit_params=None, iid='warn', n_jobs=4,\n",
       "       param_grid={'max_depth': [3, 5, 7], 'learning_rate': [0.1], 'n_estimators': [30, 35, 40, 45, 50, 55, 60, 65], 'min_samples_split': [2]},\n",
       "       pre_dispatch='2*n_jobs', refit=True, return_train_score='warn',\n",
       "       scoring='accuracy', verbose=0)"
      ]
     },
     "execution_count": 42,
     "metadata": {},
     "output_type": "execute_result"
    }
   ],
   "source": [
    "xgb2_cv.fit(X_train, y_train,\n",
    "           eval_set = [(X_train, y_train),(X_val, y_val)],\n",
    "           early_stopping_rounds = 50,\n",
    "           verbose = 0)"
   ]
  },
  {
   "cell_type": "code",
   "execution_count": 43,
   "metadata": {},
   "outputs": [
    {
     "data": {
      "text/plain": [
       "{'learning_rate': 0.1,\n",
       " 'max_depth': 7,\n",
       " 'min_samples_split': 2,\n",
       " 'n_estimators': 45}"
      ]
     },
     "execution_count": 43,
     "metadata": {},
     "output_type": "execute_result"
    }
   ],
   "source": [
    "xgb2_cv.best_params_"
   ]
  },
  {
   "cell_type": "code",
   "execution_count": 44,
   "metadata": {},
   "outputs": [
    {
     "name": "stdout",
     "output_type": "stream",
     "text": [
      "Kappa = 0.18\n",
      "Accuracy = 0.39\n",
      "              precision    recall  f1-score   support\n",
      "\n",
      "           0       0.43      0.02      0.05       123\n",
      "           1       0.36      0.26      0.30       927\n",
      "           2       0.34      0.41      0.37      1211\n",
      "           3       0.40      0.20      0.27       978\n",
      "           4       0.45      0.66      0.54      1259\n",
      "\n",
      "   micro avg       0.39      0.39      0.39      4498\n",
      "   macro avg       0.40      0.31      0.30      4498\n",
      "weighted avg       0.39      0.39      0.37      4498\n",
      "\n"
     ]
    },
    {
     "data": {
      "image/png": "[encoded data removed]",
      "text/plain": [
       "<Figure size 720x720 with 2 Axes>"
      ]
     },
     "metadata": {
      "needs_background": "light"
     },
     "output_type": "display_data"
    }
   ],
   "source": [
    "model_metrics(xgb2_cv.best_estimator_, X_val, y_val)"
   ]
  },
  {
   "cell_type": "markdown",
   "metadata": {},
   "source": [
    "## kNN"
   ]
  },
  {
   "cell_type": "code",
   "execution_count": 45,
   "metadata": {},
   "outputs": [],
   "source": [
    "from sklearn.neighbors import KNeighborsClassifier\n",
    "from sklearn.decomposition import PCA\n",
    "from sklearn.preprocessing import StandardScaler"
   ]
  },
  {
   "cell_type": "code",
   "execution_count": 46,
   "metadata": {},
   "outputs": [
    {
     "name": "stderr",
     "output_type": "stream",
     "text": [
      "C:\\Users\\Curtis\\Anaconda3\\lib\\site-packages\\sklearn\\preprocessing\\data.py:625: DataConversionWarning: Data with input dtype int64, float64 were all converted to float64 by StandardScaler.\n",
      "  return self.partial_fit(X, y)\n",
      "C:\\Users\\Curtis\\Anaconda3\\lib\\site-packages\\sklearn\\base.py:462: DataConversionWarning: Data with input dtype int64, float64 were all converted to float64 by StandardScaler.\n",
      "  return self.fit(X, **fit_params).transform(X)\n",
      "C:\\Users\\Curtis\\Anaconda3\\lib\\site-packages\\ipykernel_launcher.py:7: DataConversionWarning: Data with input dtype int64, float64 were all converted to float64 by StandardScaler.\n",
      "  import sys\n"
     ]
    }
   ],
   "source": [
    "# Scale X_train data\n",
    "scaler = StandardScaler()\n",
    "\n",
    "X_train_scaled = scaler.fit_transform(X_train)\n",
    "\n",
    "# Transform X_val according to scaler\n",
    "X_val_scaled = scaler.transform(X_val)"
   ]
  },
  {
   "cell_type": "code",
   "execution_count": 47,
   "metadata": {},
   "outputs": [],
   "source": [
    "# Apply PCA to X_train_scaled\n",
    "pca = PCA(0.95)        # or use float 0.95\n",
    "\n",
    "# Fit-transform X_train_scaled\n",
    "X_train_pca = pca.fit_transform(X_train_scaled)\n",
    "\n",
    "# Transform X_val_scaled according to pca\n",
    "X_val_pca = pca.transform(X_val_scaled)"
   ]
  },
  {
   "cell_type": "code",
   "execution_count": 48,
   "metadata": {},
   "outputs": [
    {
     "data": {
      "text/plain": [
       "(10495, 32)"
      ]
     },
     "execution_count": 48,
     "metadata": {},
     "output_type": "execute_result"
    }
   ],
   "source": [
    "X_train_pca.shape"
   ]
  },
  {
   "cell_type": "code",
   "execution_count": 49,
   "metadata": {},
   "outputs": [],
   "source": [
    "# Create kNN parameter grid\n",
    "knn_n_neighbors = [3, 5, 9, 13]\n",
    "knn_weights = ['uniform', 'distance']\n",
    "\n",
    "knn_param_grid = {'n_neighbors':knn_n_neighbors,\n",
    "                  'weights':knn_weights}"
   ]
  },
  {
   "cell_type": "code",
   "execution_count": 50,
   "metadata": {},
   "outputs": [],
   "source": [
    "# Instantiate kNN model\n",
    "knn = KNeighborsClassifier()"
   ]
  },
  {
   "cell_type": "code",
   "execution_count": 51,
   "metadata": {},
   "outputs": [],
   "source": [
    "# Instantiate GridSearchCV model for kNN\n",
    "knn_cv = GridSearchCV(knn,\n",
    "                      knn_param_grid,\n",
    "                      cv = 5,\n",
    "                      scoring = 'accuracy',\n",
    "                      n_jobs = 4,\n",
    "                      verbose = -1)"
   ]
  },
  {
   "cell_type": "code",
   "execution_count": 52,
   "metadata": {},
   "outputs": [
    {
     "name": "stderr",
     "output_type": "stream",
     "text": [
      "[Parallel(n_jobs=4)]: Using backend LokyBackend with 4 concurrent workers.\n",
      "[Parallel(n_jobs=4)]: Done  40 out of  40 | elapsed:   57.5s finished\n"
     ]
    },
    {
     "data": {
      "text/plain": [
       "GridSearchCV(cv=5, error_score='raise-deprecating',\n",
       "       estimator=KNeighborsClassifier(algorithm='auto', leaf_size=30, metric='minkowski',\n",
       "           metric_params=None, n_jobs=None, n_neighbors=5, p=2,\n",
       "           weights='uniform'),\n",
       "       fit_params=None, iid='warn', n_jobs=4,\n",
       "       param_grid={'n_neighbors': [3, 5, 9, 13], 'weights': ['uniform', 'distance']},\n",
       "       pre_dispatch='2*n_jobs', refit=True, return_train_score='warn',\n",
       "       scoring='accuracy', verbose=-1)"
      ]
     },
     "execution_count": 52,
     "metadata": {},
     "output_type": "execute_result"
    }
   ],
   "source": [
    "# Fit X_train_pca to knn_cv\n",
    "knn_cv.fit(X_train_pca, y_train)"
   ]
  },
  {
   "cell_type": "code",
   "execution_count": 53,
   "metadata": {},
   "outputs": [
    {
     "data": {
      "text/plain": [
       "{'n_neighbors': 13, 'weights': 'distance'}"
      ]
     },
     "execution_count": 53,
     "metadata": {},
     "output_type": "execute_result"
    }
   ],
   "source": [
    "knn_cv.best_params_"
   ]
  },
  {
   "cell_type": "code",
   "execution_count": 54,
   "metadata": {
    "scrolled": false
   },
   "outputs": [
    {
     "name": "stdout",
     "output_type": "stream",
     "text": [
      "Kappa = 0.12\n",
      "Accuracy = 0.34\n",
      "              precision    recall  f1-score   support\n",
      "\n",
      "           0       0.27      0.02      0.04       123\n",
      "           1       0.31      0.27      0.29       927\n",
      "           2       0.30      0.33      0.32      1211\n",
      "           3       0.30      0.27      0.29       978\n",
      "           4       0.43      0.50      0.46      1259\n",
      "\n",
      "   micro avg       0.34      0.34      0.34      4498\n",
      "   macro avg       0.32      0.28      0.28      4498\n",
      "weighted avg       0.34      0.34      0.34      4498\n",
      "\n"
     ]
    },
    {
     "data": {
      "image/png": "[encoded data removed]",
      "text/plain": [
       "<Figure size 720x720 with 2 Axes>"
      ]
     },
     "metadata": {
      "needs_background": "light"
     },
     "output_type": "display_data"
    }
   ],
   "source": [
    "model_metrics(knn_cv.best_estimator_, X_val_pca, y_val)"
   ]
  },
  {
   "cell_type": "markdown",
   "metadata": {},
   "source": [
    "# Conclusions\n",
    "\n",
    "According to the Cohen Kappa scores of the three models above, the random forest classifier slightly performed better than both the XGB and k-Nearest Neighbors on the validation sets. Therefore, it's that model that will be used to make predictions on the test set."
   ]
  },
  {
   "cell_type": "code",
   "execution_count": 55,
   "metadata": {},
   "outputs": [
    {
     "data": {
      "text/html": [
       "<div>\n",
       "<style scoped>\n",
       "    .dataframe tbody tr th:only-of-type {\n",
       "        vertical-align: middle;\n",
       "    }\n",
       "\n",
       "    .dataframe tbody tr th {\n",
       "        vertical-align: top;\n",
       "    }\n",
       "\n",
       "    .dataframe thead th {\n",
       "        text-align: right;\n",
       "    }\n",
       "</style>\n",
       "<table border=\"1\" class=\"dataframe\">\n",
       "  <thead>\n",
       "    <tr style=\"text-align: right;\">\n",
       "      <th></th>\n",
       "      <th>PetID</th>\n",
       "      <th>AdoptionSpeed</th>\n",
       "    </tr>\n",
       "  </thead>\n",
       "  <tbody>\n",
       "    <tr>\n",
       "      <th>0</th>\n",
       "      <td>378fcc4fc</td>\n",
       "      <td>0</td>\n",
       "    </tr>\n",
       "    <tr>\n",
       "      <th>1</th>\n",
       "      <td>73c10e136</td>\n",
       "      <td>0</td>\n",
       "    </tr>\n",
       "    <tr>\n",
       "      <th>2</th>\n",
       "      <td>72000c4c5</td>\n",
       "      <td>0</td>\n",
       "    </tr>\n",
       "    <tr>\n",
       "      <th>3</th>\n",
       "      <td>e147a4b9f</td>\n",
       "      <td>0</td>\n",
       "    </tr>\n",
       "    <tr>\n",
       "      <th>4</th>\n",
       "      <td>43fbba852</td>\n",
       "      <td>0</td>\n",
       "    </tr>\n",
       "  </tbody>\n",
       "</table>\n",
       "</div>"
      ],
      "text/plain": [
       "       PetID  AdoptionSpeed\n",
       "0  378fcc4fc              0\n",
       "1  73c10e136              0\n",
       "2  72000c4c5              0\n",
       "3  e147a4b9f              0\n",
       "4  43fbba852              0"
      ]
     },
     "execution_count": 55,
     "metadata": {},
     "output_type": "execute_result"
    }
   ],
   "source": [
    "# Import sample_submission.csv\n",
    "sample_sub = pd.read_csv('../Data/Original_Data/sample_submission.csv')\n",
    "sample_sub.head()"
   ]
  },
  {
   "cell_type": "code",
   "execution_count": 56,
   "metadata": {},
   "outputs": [],
   "source": [
    "# Create new data frame for predictions\n",
    "test_pred = pd.DataFrame(index = test_new.index)"
   ]
  },
  {
   "cell_type": "code",
   "execution_count": 57,
   "metadata": {},
   "outputs": [],
   "source": [
    "# Append new column of predictions\n",
    "test_pred['AdoptionSpeed'] = rfc2_cv.best_estimator_.predict(test_new)"
   ]
  },
  {
   "cell_type": "code",
   "execution_count": 58,
   "metadata": {},
   "outputs": [
    {
     "data": {
      "text/html": [
       "<div>\n",
       "<style scoped>\n",
       "    .dataframe tbody tr th:only-of-type {\n",
       "        vertical-align: middle;\n",
       "    }\n",
       "\n",
       "    .dataframe tbody tr th {\n",
       "        vertical-align: top;\n",
       "    }\n",
       "\n",
       "    .dataframe thead th {\n",
       "        text-align: right;\n",
       "    }\n",
       "</style>\n",
       "<table border=\"1\" class=\"dataframe\">\n",
       "  <thead>\n",
       "    <tr style=\"text-align: right;\">\n",
       "      <th></th>\n",
       "      <th>AdoptionSpeed</th>\n",
       "    </tr>\n",
       "    <tr>\n",
       "      <th>PetID</th>\n",
       "      <th></th>\n",
       "    </tr>\n",
       "  </thead>\n",
       "  <tbody>\n",
       "    <tr>\n",
       "      <th>378fcc4fc</th>\n",
       "      <td>1</td>\n",
       "    </tr>\n",
       "    <tr>\n",
       "      <th>73c10e136</th>\n",
       "      <td>4</td>\n",
       "    </tr>\n",
       "    <tr>\n",
       "      <th>72000c4c5</th>\n",
       "      <td>4</td>\n",
       "    </tr>\n",
       "    <tr>\n",
       "      <th>e147a4b9f</th>\n",
       "      <td>4</td>\n",
       "    </tr>\n",
       "    <tr>\n",
       "      <th>43fbba852</th>\n",
       "      <td>4</td>\n",
       "    </tr>\n",
       "    <tr>\n",
       "      <th>77a490ec9</th>\n",
       "      <td>4</td>\n",
       "    </tr>\n",
       "    <tr>\n",
       "      <th>28c4b1b13</th>\n",
       "      <td>4</td>\n",
       "    </tr>\n",
       "    <tr>\n",
       "      <th>d1eada628</th>\n",
       "      <td>3</td>\n",
       "    </tr>\n",
       "    <tr>\n",
       "      <th>d134dec34</th>\n",
       "      <td>4</td>\n",
       "    </tr>\n",
       "    <tr>\n",
       "      <th>bcd464bb8</th>\n",
       "      <td>2</td>\n",
       "    </tr>\n",
       "  </tbody>\n",
       "</table>\n",
       "</div>"
      ],
      "text/plain": [
       "           AdoptionSpeed\n",
       "PetID                   \n",
       "378fcc4fc              1\n",
       "73c10e136              4\n",
       "72000c4c5              4\n",
       "e147a4b9f              4\n",
       "43fbba852              4\n",
       "77a490ec9              4\n",
       "28c4b1b13              4\n",
       "d1eada628              3\n",
       "d134dec34              4\n",
       "bcd464bb8              2"
      ]
     },
     "execution_count": 58,
     "metadata": {},
     "output_type": "execute_result"
    }
   ],
   "source": [
    "test_pred.head(10)"
   ]
  },
  {
   "cell_type": "code",
   "execution_count": 59,
   "metadata": {},
   "outputs": [],
   "source": [
    "test_pred.to_csv('../Data/submission.csv')"
   ]
  }
 ],
 "metadata": {
  "kernelspec": {
   "display_name": "Python 3",
   "language": "python",
   "name": "python3"
  },
  "language_info": {
   "codemirror_mode": {
    "name": "ipython",
    "version": 3
   },
   "file_extension": ".py",
   "mimetype": "text/x-python",
   "name": "python",
   "nbconvert_exporter": "python",
   "pygments_lexer": "ipython3",
   "version": "3.6.7"
  }
 },
 "nbformat": 4,
 "nbformat_minor": 2
}
